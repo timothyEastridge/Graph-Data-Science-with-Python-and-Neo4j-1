{
 "cells": [
  {
   "cell_type": "code",
   "execution_count": 1,
   "metadata": {},
   "outputs": [],
   "source": [
    "# Setup\n",
    "from neo4j import GraphDatabase\n",
    "from graphdatascience import GraphDataScience\n",
    "import pandas as pd\n",
    "\n",
    "# Set the display options\n",
    "pd.set_option('display.max_columns', None)\n",
    "pd.set_option('display.expand_frame_repr', False)\n",
    "pd.set_option('max_colwidth', None)\n",
    "\n",
    "# Connect to Neo4j\n",
    "uri = \"bolt://localhost:7687\" # CHANGE TO YOUR PORT NUMBER\n",
    "user = \"neo4j\"\n",
    "password = \"neo4j12345\"       # CHANGE PASSWORD\n",
    "\n",
    "gds = GraphDataScience(uri, auth=(user,password))\n",
    "gds.set_database(\"neo4j\")"
   ]
  },
  {
   "cell_type": "code",
   "execution_count": null,
   "metadata": {},
   "outputs": [],
   "source": [
    "# Create data with Cypher\n",
    "gds.run_cypher(\"\"\"\n",
    "CREATE (mitch:Individual {name: 'Mitch'})\n",
    "\n",
    "CREATE (carl:Individual {name: 'Carl'}),\n",
    "       (nathan:Individual {name: 'Nathan'}),\n",
    "       (sophia:Individual {name: 'Sophia'}),\n",
    "       (emma:Individual {name: 'Emma'}),\n",
    "       (olivia:Individual {name: 'Olivia'}),\n",
    "       (james:Individual {name: 'James'}),\n",
    "       (michael:Individual {name: 'Michael'}),\n",
    "       (emily:Individual {name: 'Emily'}),\n",
    "       (madison:Individual {name: 'Madison'}),\n",
    "       (david:Individual {name: 'David'}),\n",
    "\n",
    "       (mitch)-[:FRIEND_OF]->(carl),\n",
    "       (mitch)-[:FRIEND_OF]->(sophia),\n",
    "       (mitch)-[:FRIEND_OF]->(emma),\n",
    "       (mitch)-[:FRIEND_OF]->(olivia),\n",
    "       (mitch)-[:FRIEND_OF]->(james),\n",
    "       (mitch)-[:FRIEND_OF]->(michael),\n",
    "       (mitch)-[:FRIEND_OF]->(emily),\n",
    "       (mitch)-[:FRIEND_OF]->(madison),\n",
    "       (mitch)-[:FRIEND_OF]->(david),\n",
    "\n",
    "       (carl)-[:FRIEND_OF]->(nathan);\n",
    "\n",
    "\"\"\")"
   ]
  },
  {
   "cell_type": "markdown",
   "metadata": {},
   "source": [
    "## Load the Recipe CSV Datasets into Neo4j"
   ]
  },
  {
   "cell_type": "code",
   "execution_count": 4,
   "metadata": {},
   "outputs": [
    {
     "data": {
      "text/html": [
       "<div>\n",
       "<style scoped>\n",
       "    .dataframe tbody tr th:only-of-type {\n",
       "        vertical-align: middle;\n",
       "    }\n",
       "\n",
       "    .dataframe tbody tr th {\n",
       "        vertical-align: top;\n",
       "    }\n",
       "\n",
       "    .dataframe thead th {\n",
       "        text-align: right;\n",
       "    }\n",
       "</style>\n",
       "<table border=\"1\" class=\"dataframe\">\n",
       "  <thead>\n",
       "    <tr style=\"text-align: right;\">\n",
       "      <th></th>\n",
       "    </tr>\n",
       "  </thead>\n",
       "  <tbody>\n",
       "  </tbody>\n",
       "</table>\n",
       "</div>"
      ],
      "text/plain": [
       "Empty DataFrame\n",
       "Columns: []\n",
       "Index: []"
      ]
     },
     "execution_count": 4,
     "metadata": {},
     "output_type": "execute_result"
    }
   ],
   "source": [
    "#Create Person Node\n",
    "gds.run_cypher(f\"\"\" \n",
    "\n",
    "LOAD CSV WITH HEADERS FROM 'file:///Fake_Data_FBI_Neo4j.csv' AS row\n",
    "CALL {{\n",
    "    WITH row\n",
    "    CREATE (:Person {{\n",
    "        full_name: row.full_name,\n",
    "        ssn: row.ssn,\n",
    "        ip_address: row.ip_address,\n",
    "        email: row.email,\n",
    "        phone_number: row.phone_number,\n",
    "        address: row.address,\n",
    "        suspicious_activity_report: row.suspicious_activity_report,\n",
    "        FBI_case_number: row.FBI_case_number\n",
    "    }})\n",
    "}}\n",
    "\n",
    "\"\"\")"
   ]
  },
  {
   "cell_type": "code",
   "execution_count": 4,
   "metadata": {},
   "outputs": [
    {
     "data": {
      "text/html": [
       "<div>\n",
       "<style scoped>\n",
       "    .dataframe tbody tr th:only-of-type {\n",
       "        vertical-align: middle;\n",
       "    }\n",
       "\n",
       "    .dataframe tbody tr th {\n",
       "        vertical-align: top;\n",
       "    }\n",
       "\n",
       "    .dataframe thead th {\n",
       "        text-align: right;\n",
       "    }\n",
       "</style>\n",
       "<table border=\"1\" class=\"dataframe\">\n",
       "  <thead>\n",
       "    <tr style=\"text-align: right;\">\n",
       "      <th></th>\n",
       "    </tr>\n",
       "  </thead>\n",
       "  <tbody>\n",
       "  </tbody>\n",
       "</table>\n",
       "</div>"
      ],
      "text/plain": [
       "Empty DataFrame\n",
       "Columns: []\n",
       "Index: []"
      ]
     },
     "execution_count": 4,
     "metadata": {},
     "output_type": "execute_result"
    }
   ],
   "source": [
    "#Create Person Node in batches of 1,000\n",
    "gds.run_cypher(\"\"\" \n",
    "\n",
    "LOAD CSV WITH HEADERS FROM 'file:///Fake_Data_FBI_Neo4j.csv' AS row\n",
    "WITH row\n",
    "CALL {\n",
    "    WITH row\n",
    "    CREATE (:Person {\n",
    "        full_name: row.full_name,\n",
    "        ssn: row.ssn,\n",
    "        ip_address: row.ip_address,\n",
    "        email: row.email,\n",
    "        phone_number: row.phone_number,\n",
    "        address: row.address,\n",
    "        suspicious_activity_report: row.suspicious_activity_report,\n",
    "        FBI_case_number: row.FBI_case_number\n",
    "    })\n",
    "} IN TRANSACTIONS OF 1000 ROWS\n",
    "\n",
    "\"\"\")"
   ]
  },
  {
   "cell_type": "code",
   "execution_count": 5,
   "metadata": {},
   "outputs": [
    {
     "data": {
      "text/html": [
       "<div>\n",
       "<style scoped>\n",
       "    .dataframe tbody tr th:only-of-type {\n",
       "        vertical-align: middle;\n",
       "    }\n",
       "\n",
       "    .dataframe tbody tr th {\n",
       "        vertical-align: top;\n",
       "    }\n",
       "\n",
       "    .dataframe thead th {\n",
       "        text-align: right;\n",
       "    }\n",
       "</style>\n",
       "<table border=\"1\" class=\"dataframe\">\n",
       "  <thead>\n",
       "    <tr style=\"text-align: right;\">\n",
       "      <th></th>\n",
       "    </tr>\n",
       "  </thead>\n",
       "  <tbody>\n",
       "  </tbody>\n",
       "</table>\n",
       "</div>"
      ],
      "text/plain": [
       "Empty DataFrame\n",
       "Columns: []\n",
       "Index: []"
      ]
     },
     "execution_count": 5,
     "metadata": {},
     "output_type": "execute_result"
    }
   ],
   "source": [
    "#Create phone number node\n",
    "gds.run_cypher(f\"\"\"\n",
    "\n",
    "MATCH (p:Person)\n",
    "WHERE p.phone_number IS NOT NULL\n",
    "MERGE (ph:Phone {{number: p.phone_number}})\n",
    "MERGE (p)-[:HAS_PHONE_NUMBER]->(ph)\n",
    "\n",
    "\"\"\")"
   ]
  },
  {
   "cell_type": "code",
   "execution_count": 6,
   "metadata": {},
   "outputs": [
    {
     "data": {
      "text/html": [
       "<div>\n",
       "<style scoped>\n",
       "    .dataframe tbody tr th:only-of-type {\n",
       "        vertical-align: middle;\n",
       "    }\n",
       "\n",
       "    .dataframe tbody tr th {\n",
       "        vertical-align: top;\n",
       "    }\n",
       "\n",
       "    .dataframe thead th {\n",
       "        text-align: right;\n",
       "    }\n",
       "</style>\n",
       "<table border=\"1\" class=\"dataframe\">\n",
       "  <thead>\n",
       "    <tr style=\"text-align: right;\">\n",
       "      <th></th>\n",
       "    </tr>\n",
       "  </thead>\n",
       "  <tbody>\n",
       "  </tbody>\n",
       "</table>\n",
       "</div>"
      ],
      "text/plain": [
       "Empty DataFrame\n",
       "Columns: []\n",
       "Index: []"
      ]
     },
     "execution_count": 6,
     "metadata": {},
     "output_type": "execute_result"
    }
   ],
   "source": [
    "#Create IP Address\n",
    "gds.run_cypher(f\"\"\"\n",
    "\n",
    "MATCH (p:Person)\n",
    "WHERE p.ip_address IS NOT NULL\n",
    "MERGE (ph:IP {{ip_address: p.ip_address}})\n",
    "MERGE (p)-[:HAS_IP]->(ph)\n",
    "\n",
    "\"\"\")"
   ]
  },
  {
   "cell_type": "code",
   "execution_count": 7,
   "metadata": {},
   "outputs": [
    {
     "data": {
      "text/html": [
       "<div>\n",
       "<style scoped>\n",
       "    .dataframe tbody tr th:only-of-type {\n",
       "        vertical-align: middle;\n",
       "    }\n",
       "\n",
       "    .dataframe tbody tr th {\n",
       "        vertical-align: top;\n",
       "    }\n",
       "\n",
       "    .dataframe thead th {\n",
       "        text-align: right;\n",
       "    }\n",
       "</style>\n",
       "<table border=\"1\" class=\"dataframe\">\n",
       "  <thead>\n",
       "    <tr style=\"text-align: right;\">\n",
       "      <th></th>\n",
       "    </tr>\n",
       "  </thead>\n",
       "  <tbody>\n",
       "  </tbody>\n",
       "</table>\n",
       "</div>"
      ],
      "text/plain": [
       "Empty DataFrame\n",
       "Columns: []\n",
       "Index: []"
      ]
     },
     "execution_count": 7,
     "metadata": {},
     "output_type": "execute_result"
    }
   ],
   "source": [
    "#Create SSN\n",
    "gds.run_cypher(f\"\"\"\n",
    "\n",
    "MATCH (p:Person)\n",
    "WHERE p.ssn IS NOT NULL\n",
    "MERGE (ph:SSN {{ssn: p.ssn}})\n",
    "MERGE (p)-[:HAS_SSN]->(ph)\n",
    "\n",
    "\"\"\")"
   ]
  },
  {
   "cell_type": "code",
   "execution_count": 8,
   "metadata": {},
   "outputs": [
    {
     "data": {
      "text/html": [
       "<div>\n",
       "<style scoped>\n",
       "    .dataframe tbody tr th:only-of-type {\n",
       "        vertical-align: middle;\n",
       "    }\n",
       "\n",
       "    .dataframe tbody tr th {\n",
       "        vertical-align: top;\n",
       "    }\n",
       "\n",
       "    .dataframe thead th {\n",
       "        text-align: right;\n",
       "    }\n",
       "</style>\n",
       "<table border=\"1\" class=\"dataframe\">\n",
       "  <thead>\n",
       "    <tr style=\"text-align: right;\">\n",
       "      <th></th>\n",
       "    </tr>\n",
       "  </thead>\n",
       "  <tbody>\n",
       "  </tbody>\n",
       "</table>\n",
       "</div>"
      ],
      "text/plain": [
       "Empty DataFrame\n",
       "Columns: []\n",
       "Index: []"
      ]
     },
     "execution_count": 8,
     "metadata": {},
     "output_type": "execute_result"
    }
   ],
   "source": [
    "#Create FBI case number\n",
    "gds.run_cypher(f\"\"\"\n",
    "\n",
    "MATCH (p:Person)\n",
    "WHERE p.FBI_case_number IS NOT NULL\n",
    "MERGE (ph:FBI_Case {{FBI_case_number: p.FBI_case_number}})\n",
    "MERGE (p)-[:HAS_FBI_CASE]->(ph)\n",
    "\n",
    "\"\"\")"
   ]
  },
  {
   "cell_type": "code",
   "execution_count": 9,
   "metadata": {},
   "outputs": [
    {
     "data": {
      "text/html": [
       "<div>\n",
       "<style scoped>\n",
       "    .dataframe tbody tr th:only-of-type {\n",
       "        vertical-align: middle;\n",
       "    }\n",
       "\n",
       "    .dataframe tbody tr th {\n",
       "        vertical-align: top;\n",
       "    }\n",
       "\n",
       "    .dataframe thead th {\n",
       "        text-align: right;\n",
       "    }\n",
       "</style>\n",
       "<table border=\"1\" class=\"dataframe\">\n",
       "  <thead>\n",
       "    <tr style=\"text-align: right;\">\n",
       "      <th></th>\n",
       "    </tr>\n",
       "  </thead>\n",
       "  <tbody>\n",
       "  </tbody>\n",
       "</table>\n",
       "</div>"
      ],
      "text/plain": [
       "Empty DataFrame\n",
       "Columns: []\n",
       "Index: []"
      ]
     },
     "execution_count": 9,
     "metadata": {},
     "output_type": "execute_result"
    }
   ],
   "source": [
    "#Create Address node\n",
    "gds.run_cypher(f\"\"\"\n",
    "\n",
    "MATCH (p:Person)\n",
    "WHERE p.address IS NOT NULL\n",
    "MERGE (ph:Address {{address: p.address}})\n",
    "MERGE (p)-[:HAS_ADDRESS]->(ph)\n",
    "\n",
    "\"\"\")"
   ]
  },
  {
   "cell_type": "code",
   "execution_count": 10,
   "metadata": {},
   "outputs": [
    {
     "data": {
      "text/html": [
       "<div>\n",
       "<style scoped>\n",
       "    .dataframe tbody tr th:only-of-type {\n",
       "        vertical-align: middle;\n",
       "    }\n",
       "\n",
       "    .dataframe tbody tr th {\n",
       "        vertical-align: top;\n",
       "    }\n",
       "\n",
       "    .dataframe thead th {\n",
       "        text-align: right;\n",
       "    }\n",
       "</style>\n",
       "<table border=\"1\" class=\"dataframe\">\n",
       "  <thead>\n",
       "    <tr style=\"text-align: right;\">\n",
       "      <th></th>\n",
       "    </tr>\n",
       "  </thead>\n",
       "  <tbody>\n",
       "  </tbody>\n",
       "</table>\n",
       "</div>"
      ],
      "text/plain": [
       "Empty DataFrame\n",
       "Columns: []\n",
       "Index: []"
      ]
     },
     "execution_count": 10,
     "metadata": {},
     "output_type": "execute_result"
    }
   ],
   "source": [
    "#Create email node\n",
    "gds.run_cypher(f\"\"\"\n",
    "\n",
    "MATCH (p:Person)\n",
    "WHERE p.email IS NOT NULL\n",
    "MERGE (ph:Email {{email: p.email}})\n",
    "MERGE (p)-[:HAS_EMAIL]->(ph)\n",
    "\n",
    "\"\"\")"
   ]
  },
  {
   "cell_type": "code",
   "execution_count": 11,
   "metadata": {},
   "outputs": [
    {
     "data": {
      "text/html": [
       "<div>\n",
       "<style scoped>\n",
       "    .dataframe tbody tr th:only-of-type {\n",
       "        vertical-align: middle;\n",
       "    }\n",
       "\n",
       "    .dataframe tbody tr th {\n",
       "        vertical-align: top;\n",
       "    }\n",
       "\n",
       "    .dataframe thead th {\n",
       "        text-align: right;\n",
       "    }\n",
       "</style>\n",
       "<table border=\"1\" class=\"dataframe\">\n",
       "  <thead>\n",
       "    <tr style=\"text-align: right;\">\n",
       "      <th></th>\n",
       "    </tr>\n",
       "  </thead>\n",
       "  <tbody>\n",
       "  </tbody>\n",
       "</table>\n",
       "</div>"
      ],
      "text/plain": [
       "Empty DataFrame\n",
       "Columns: []\n",
       "Index: []"
      ]
     },
     "execution_count": 11,
     "metadata": {},
     "output_type": "execute_result"
    }
   ],
   "source": [
    "#Create suspicious activity node\n",
    "gds.run_cypher(f\"\"\"\n",
    "\n",
    "MATCH (p:Person)\n",
    "WHERE p.suspicious_activity_report IS NOT NULL\n",
    "MERGE (ph:SAR {{suspicious_activity_report: p.suspicious_activity_report}})\n",
    "MERGE (p)-[:HAS_SAR]->(ph)\n",
    "\n",
    "\"\"\")"
   ]
  },
  {
   "cell_type": "code",
   "execution_count": 12,
   "metadata": {},
   "outputs": [
    {
     "data": {
      "text/html": [
       "<div>\n",
       "<style scoped>\n",
       "    .dataframe tbody tr th:only-of-type {\n",
       "        vertical-align: middle;\n",
       "    }\n",
       "\n",
       "    .dataframe tbody tr th {\n",
       "        vertical-align: top;\n",
       "    }\n",
       "\n",
       "    .dataframe thead th {\n",
       "        text-align: right;\n",
       "    }\n",
       "</style>\n",
       "<table border=\"1\" class=\"dataframe\">\n",
       "  <thead>\n",
       "    <tr style=\"text-align: right;\">\n",
       "      <th></th>\n",
       "    </tr>\n",
       "  </thead>\n",
       "  <tbody>\n",
       "  </tbody>\n",
       "</table>\n",
       "</div>"
      ],
      "text/plain": [
       "Empty DataFrame\n",
       "Columns: []\n",
       "Index: []"
      ]
     },
     "execution_count": 12,
     "metadata": {},
     "output_type": "execute_result"
    }
   ],
   "source": [
    "#make new nodes for suspicious activty report and fbi case number to see which people are under the same reports\n",
    "gds.run_cypher(f\"\"\"\n",
    "\n",
    "MATCH (p:Person)\n",
    "WHERE p.suspicious_activity_report IS NOT NULL\n",
    "      AND p.fbi_case_number IS NOT NULL\n",
    "      \n",
    "MERGE (sus:SAR {{report_number: p.suspicious_activity_report}})\n",
    "MERGE (fbi:FBI_num {{case_number: p.fbi_case_number}})\n",
    "\n",
    "MERGE (p)-[:HAS_REPORT_NUMBER]->(sus)\n",
    "MERGE (p)-[:HAS_CASE_NUMBER]->(fbi)\n",
    "\n",
    "\"\"\")"
   ]
  },
  {
   "cell_type": "code",
   "execution_count": null,
   "metadata": {},
   "outputs": [],
   "source": []
  },
  {
   "cell_type": "code",
   "execution_count": null,
   "metadata": {},
   "outputs": [],
   "source": []
  },
  {
   "cell_type": "code",
   "execution_count": null,
   "metadata": {},
   "outputs": [],
   "source": []
  },
  {
   "cell_type": "markdown",
   "metadata": {},
   "source": [
    "## Load Flower Data with Pandas"
   ]
  },
  {
   "cell_type": "code",
   "execution_count": 10,
   "metadata": {},
   "outputs": [],
   "source": [
    "from neo4j import GraphDatabase\n",
    "from getpass import getpass"
   ]
  },
  {
   "cell_type": "code",
   "execution_count": 11,
   "metadata": {},
   "outputs": [
    {
     "name": "stdout",
     "output_type": "stream",
     "text": [
      "········\n"
     ]
    }
   ],
   "source": [
    "password = getpass()"
   ]
  },
  {
   "cell_type": "code",
   "execution_count": 12,
   "metadata": {},
   "outputs": [],
   "source": [
    "driver = GraphDatabase.driver(\"bolt://localhost:7687\", auth=(\"neo4j\", password))"
   ]
  },
  {
   "cell_type": "code",
   "execution_count": 3,
   "metadata": {},
   "outputs": [
    {
     "name": "stdout",
     "output_type": "stream",
     "text": [
      "   Sepal_Length  Sepal_Width  Petal_Length  Petal_Width Species\n",
      "0           5.1          3.5           1.4          0.2  setosa\n",
      "1           4.9          3.0           1.4          0.2  setosa\n",
      "2           4.7          3.2           1.3          0.2  setosa\n",
      "3           4.6          3.1           1.5          0.2  setosa\n",
      "4           5.0          3.6           1.4          0.2  setosa\n"
     ]
    }
   ],
   "source": [
    "import pandas as pd\n",
    "import numpy as np\n",
    "import os\n",
    "df = pd.read_csv (r'C:\\Users\\TimEa\\OneDrive\\Data\\Iris\\iris.csv', encoding= 'unicode_escape')\n",
    "df = df.rename(columns=lambda x: x.replace('.', '_'))\n",
    "print (df.head())"
   ]
  },
  {
   "cell_type": "code",
   "execution_count": 5,
   "metadata": {},
   "outputs": [],
   "source": [
    "target_variable = 'Species'\n",
    "independent_variables = [col for col in df.columns if col not in ['Id', target_variable]]"
   ]
  },
  {
   "cell_type": "code",
   "execution_count": 6,
   "metadata": {},
   "outputs": [
    {
     "name": "stdout",
     "output_type": "stream",
     "text": [
      "   Sepal_Length  Sepal_Width  Petal_Length  Petal_Width Species Id  Target\n",
      "0           5.1          3.5           1.4          0.2  setosa  0       0\n",
      "1           4.9          3.0           1.4          0.2  setosa  1       0\n",
      "2           4.7          3.2           1.3          0.2  setosa  2       0\n",
      "3           4.6          3.1           1.5          0.2  setosa  3       0\n",
      "4           5.0          3.6           1.4          0.2  setosa  4       0\n"
     ]
    }
   ],
   "source": [
    "# Reset the index and generate a new index column named 'index'\n",
    "df = df.reset_index()\n",
    "\n",
    "# Add a new column of IDs based on the 'index' column\n",
    "df['Id'] = df['index'].astype(str)\n",
    "\n",
    "# Drop the 'index' column if desired\n",
    "df = df.drop(columns=['index'])\n",
    "\n",
    "# Convert target variable to a numeric value\n",
    "df['Target'] = pd.Categorical(df[target_variable]).codes\n",
    "\n",
    "print(df.head())"
   ]
  },
  {
   "cell_type": "code",
   "execution_count": 9,
   "metadata": {},
   "outputs": [
    {
     "data": {
      "text/plain": [
       "{'Sepal_Length': 4.9,\n",
       " 'Sepal_Width': 3.0,\n",
       " 'Petal_Length': 1.4,\n",
       " 'Petal_Width': 0.2,\n",
       " 'Species': 'setosa',\n",
       " 'Id': '1',\n",
       " 'Target': 0}"
      ]
     },
     "metadata": {},
     "output_type": "display_data"
    }
   ],
   "source": [
    "# Convert the dataframe to a list of dictionaries\n",
    "data = df.to_dict('records')\n",
    "display(data[1])"
   ]
  },
  {
   "cell_type": "code",
   "execution_count": 20,
   "metadata": {},
   "outputs": [],
   "source": [
    "with driver.session() as session:\n",
    "    session.run(\"\"\"\n",
    "    UNWIND $data AS row\n",
    "    MERGE (s:Flower_Record {Row_ID: toInteger(row['Id'])})\n",
    "    ON CREATE SET s.Target = toInteger(row['Target'])\n",
    "        , s.Sepal_Length = row['Sepal_Length']\n",
    "        , s.Sepal_Width  = row['Sepal_Width']\n",
    "        , s.Petal_Length = row['Petal_Length']\n",
    "        , s.Petal_Width  = row['Petal_Width']\n",
    "        , s.Species      = row['Species']\"\"\",\n",
    "               {\"data\":data})"
   ]
  },
  {
   "cell_type": "code",
   "execution_count": 21,
   "metadata": {},
   "outputs": [
    {
     "data": {
      "text/html": [
       "<div>\n",
       "<style scoped>\n",
       "    .dataframe tbody tr th:only-of-type {\n",
       "        vertical-align: middle;\n",
       "    }\n",
       "\n",
       "    .dataframe tbody tr th {\n",
       "        vertical-align: top;\n",
       "    }\n",
       "\n",
       "    .dataframe thead th {\n",
       "        text-align: right;\n",
       "    }\n",
       "</style>\n",
       "<table border=\"1\" class=\"dataframe\">\n",
       "  <thead>\n",
       "    <tr style=\"text-align: right;\">\n",
       "      <th></th>\n",
       "    </tr>\n",
       "  </thead>\n",
       "  <tbody>\n",
       "  </tbody>\n",
       "</table>\n",
       "</div>"
      ],
      "text/plain": [
       "Empty DataFrame\n",
       "Columns: []\n",
       "Index: []"
      ]
     },
     "execution_count": 21,
     "metadata": {},
     "output_type": "execute_result"
    }
   ],
   "source": [
    "gds.run_cypher(\"\"\"\n",
    "CREATE INDEX Row_ID IF NOT EXISTS FOR (s:Flower_Record) ON (s.Row_ID)\n",
    "\"\"\")"
   ]
  },
  {
   "cell_type": "code",
   "execution_count": 19,
   "metadata": {},
   "outputs": [
    {
     "data": {
      "text/html": [
       "<div>\n",
       "<style scoped>\n",
       "    .dataframe tbody tr th:only-of-type {\n",
       "        vertical-align: middle;\n",
       "    }\n",
       "\n",
       "    .dataframe tbody tr th {\n",
       "        vertical-align: top;\n",
       "    }\n",
       "\n",
       "    .dataframe thead th {\n",
       "        text-align: right;\n",
       "    }\n",
       "</style>\n",
       "<table border=\"1\" class=\"dataframe\">\n",
       "  <thead>\n",
       "    <tr style=\"text-align: right;\">\n",
       "      <th></th>\n",
       "      <th>id</th>\n",
       "      <th>name</th>\n",
       "      <th>state</th>\n",
       "      <th>populationPercent</th>\n",
       "      <th>type</th>\n",
       "      <th>entityType</th>\n",
       "      <th>labelsOrTypes</th>\n",
       "      <th>properties</th>\n",
       "      <th>indexProvider</th>\n",
       "      <th>owningConstraint</th>\n",
       "    </tr>\n",
       "  </thead>\n",
       "  <tbody>\n",
       "    <tr>\n",
       "      <th>0</th>\n",
       "      <td>7</td>\n",
       "      <td>Ingredient_ID</td>\n",
       "      <td>ONLINE</td>\n",
       "      <td>100.0</td>\n",
       "      <td>RANGE</td>\n",
       "      <td>NODE</td>\n",
       "      <td>[Ingredient]</td>\n",
       "      <td>[Ingredient_ID]</td>\n",
       "      <td>range-1.0</td>\n",
       "      <td>Ingredient_ID</td>\n",
       "    </tr>\n",
       "    <tr>\n",
       "      <th>1</th>\n",
       "      <td>5</td>\n",
       "      <td>Recipe_ID</td>\n",
       "      <td>ONLINE</td>\n",
       "      <td>100.0</td>\n",
       "      <td>RANGE</td>\n",
       "      <td>NODE</td>\n",
       "      <td>[Recipe]</td>\n",
       "      <td>[Recipe_ID]</td>\n",
       "      <td>range-1.0</td>\n",
       "      <td>Recipe_ID</td>\n",
       "    </tr>\n",
       "    <tr>\n",
       "      <th>2</th>\n",
       "      <td>9</td>\n",
       "      <td>Row_ID</td>\n",
       "      <td>ONLINE</td>\n",
       "      <td>100.0</td>\n",
       "      <td>RANGE</td>\n",
       "      <td>NODE</td>\n",
       "      <td>[Species]</td>\n",
       "      <td>[Row_ID]</td>\n",
       "      <td>range-1.0</td>\n",
       "      <td>None</td>\n",
       "    </tr>\n",
       "    <tr>\n",
       "      <th>3</th>\n",
       "      <td>1</td>\n",
       "      <td>index_343aff4e</td>\n",
       "      <td>ONLINE</td>\n",
       "      <td>100.0</td>\n",
       "      <td>LOOKUP</td>\n",
       "      <td>NODE</td>\n",
       "      <td>None</td>\n",
       "      <td>None</td>\n",
       "      <td>token-lookup-1.0</td>\n",
       "      <td>None</td>\n",
       "    </tr>\n",
       "    <tr>\n",
       "      <th>4</th>\n",
       "      <td>2</td>\n",
       "      <td>index_f7700477</td>\n",
       "      <td>ONLINE</td>\n",
       "      <td>100.0</td>\n",
       "      <td>LOOKUP</td>\n",
       "      <td>RELATIONSHIP</td>\n",
       "      <td>None</td>\n",
       "      <td>None</td>\n",
       "      <td>token-lookup-1.0</td>\n",
       "      <td>None</td>\n",
       "    </tr>\n",
       "    <tr>\n",
       "      <th>5</th>\n",
       "      <td>3</td>\n",
       "      <td>rowid</td>\n",
       "      <td>ONLINE</td>\n",
       "      <td>100.0</td>\n",
       "      <td>RANGE</td>\n",
       "      <td>NODE</td>\n",
       "      <td>[Recipe]</td>\n",
       "      <td>[Row_ID]</td>\n",
       "      <td>range-1.0</td>\n",
       "      <td>rowid</td>\n",
       "    </tr>\n",
       "  </tbody>\n",
       "</table>\n",
       "</div>"
      ],
      "text/plain": [
       "   id            name   state  populationPercent    type    entityType labelsOrTypes       properties     indexProvider owningConstraint\n",
       "0   7   Ingredient_ID  ONLINE              100.0   RANGE          NODE  [Ingredient]  [Ingredient_ID]         range-1.0    Ingredient_ID\n",
       "1   5       Recipe_ID  ONLINE              100.0   RANGE          NODE      [Recipe]      [Recipe_ID]         range-1.0        Recipe_ID\n",
       "2   9          Row_ID  ONLINE              100.0   RANGE          NODE     [Species]         [Row_ID]         range-1.0             None\n",
       "3   1  index_343aff4e  ONLINE              100.0  LOOKUP          NODE          None             None  token-lookup-1.0             None\n",
       "4   2  index_f7700477  ONLINE              100.0  LOOKUP  RELATIONSHIP          None             None  token-lookup-1.0             None\n",
       "5   3           rowid  ONLINE              100.0   RANGE          NODE      [Recipe]         [Row_ID]         range-1.0            rowid"
      ]
     },
     "execution_count": 19,
     "metadata": {},
     "output_type": "execute_result"
    }
   ],
   "source": [
    "gds.run_cypher(\"\"\"\n",
    "SHOW INDEX\n",
    "\"\"\")"
   ]
  },
  {
   "cell_type": "code",
   "execution_count": 23,
   "metadata": {},
   "outputs": [
    {
     "data": {
      "text/html": [
       "<div>\n",
       "<style scoped>\n",
       "    .dataframe tbody tr th:only-of-type {\n",
       "        vertical-align: middle;\n",
       "    }\n",
       "\n",
       "    .dataframe tbody tr th {\n",
       "        vertical-align: top;\n",
       "    }\n",
       "\n",
       "    .dataframe thead th {\n",
       "        text-align: right;\n",
       "    }\n",
       "</style>\n",
       "<table border=\"1\" class=\"dataframe\">\n",
       "  <thead>\n",
       "    <tr style=\"text-align: right;\">\n",
       "      <th></th>\n",
       "    </tr>\n",
       "  </thead>\n",
       "  <tbody>\n",
       "  </tbody>\n",
       "</table>\n",
       "</div>"
      ],
      "text/plain": [
       "Empty DataFrame\n",
       "Columns: []\n",
       "Index: []"
      ]
     },
     "execution_count": 23,
     "metadata": {},
     "output_type": "execute_result"
    }
   ],
   "source": [
    "gds.run_cypher(\"\"\"\n",
    "// First, ensure there is a Petal_Length node\n",
    "MERGE (p:Petal_Length)\n",
    "ON CREATE SET p.name = 'Petal Length' // You can set properties if needed\n",
    "\n",
    "// Match all Flower_Record nodes and connect them to the Petal_Length node\n",
    "WITH p\n",
    "MATCH (s:Flower_Record)\n",
    "MERGE (s)-[r:PETAL_LENGTH]->(p)\n",
    "SET r.Petal_Length = toFloat(s.Petal_Length)\n",
    "\"\"\")"
   ]
  },
  {
   "cell_type": "code",
   "execution_count": 24,
   "metadata": {},
   "outputs": [
    {
     "data": {
      "text/html": [
       "<div>\n",
       "<style scoped>\n",
       "    .dataframe tbody tr th:only-of-type {\n",
       "        vertical-align: middle;\n",
       "    }\n",
       "\n",
       "    .dataframe tbody tr th {\n",
       "        vertical-align: top;\n",
       "    }\n",
       "\n",
       "    .dataframe thead th {\n",
       "        text-align: right;\n",
       "    }\n",
       "</style>\n",
       "<table border=\"1\" class=\"dataframe\">\n",
       "  <thead>\n",
       "    <tr style=\"text-align: right;\">\n",
       "      <th></th>\n",
       "    </tr>\n",
       "  </thead>\n",
       "  <tbody>\n",
       "  </tbody>\n",
       "</table>\n",
       "</div>"
      ],
      "text/plain": [
       "Empty DataFrame\n",
       "Columns: []\n",
       "Index: []"
      ]
     },
     "execution_count": 24,
     "metadata": {},
     "output_type": "execute_result"
    }
   ],
   "source": [
    "gds.run_cypher(\"\"\"\n",
    "// First, ensure there is a Petal_Width node\n",
    "MERGE (p:Petal_Width)\n",
    "ON CREATE SET p.name = 'Petal Width' // You can set properties if needed\n",
    "\n",
    "// Match all Flower_Record nodes and connect them to the Petal_Width node\n",
    "WITH p\n",
    "MATCH (s:Flower_Record)\n",
    "MERGE (s)-[r:PETAL_WIDTH]->(p)\n",
    "SET r.Petal_Width = toFloat(s.Petal_Width)\n",
    "\"\"\")"
   ]
  },
  {
   "cell_type": "code",
   "execution_count": 25,
   "metadata": {},
   "outputs": [
    {
     "data": {
      "text/html": [
       "<div>\n",
       "<style scoped>\n",
       "    .dataframe tbody tr th:only-of-type {\n",
       "        vertical-align: middle;\n",
       "    }\n",
       "\n",
       "    .dataframe tbody tr th {\n",
       "        vertical-align: top;\n",
       "    }\n",
       "\n",
       "    .dataframe thead th {\n",
       "        text-align: right;\n",
       "    }\n",
       "</style>\n",
       "<table border=\"1\" class=\"dataframe\">\n",
       "  <thead>\n",
       "    <tr style=\"text-align: right;\">\n",
       "      <th></th>\n",
       "    </tr>\n",
       "  </thead>\n",
       "  <tbody>\n",
       "  </tbody>\n",
       "</table>\n",
       "</div>"
      ],
      "text/plain": [
       "Empty DataFrame\n",
       "Columns: []\n",
       "Index: []"
      ]
     },
     "execution_count": 25,
     "metadata": {},
     "output_type": "execute_result"
    }
   ],
   "source": [
    "gds.run_cypher(\"\"\"\n",
    "// First, ensure there is a Petal_Width node\n",
    "MERGE (p:Sepal_Length)\n",
    "ON CREATE SET p.name = 'Sepal Length' // You can set properties if needed\n",
    "\n",
    "// Match all Flower_Record nodes and connect them to the Sepal_Length node\n",
    "WITH p\n",
    "MATCH (s:Flower_Record)\n",
    "MERGE (s)-[r:SEPAL_LENGTH]->(p)\n",
    "SET r.Sepal_Length = toFloat(s.Sepal_Length)\n",
    "\"\"\")"
   ]
  },
  {
   "cell_type": "code",
   "execution_count": 26,
   "metadata": {},
   "outputs": [
    {
     "data": {
      "text/html": [
       "<div>\n",
       "<style scoped>\n",
       "    .dataframe tbody tr th:only-of-type {\n",
       "        vertical-align: middle;\n",
       "    }\n",
       "\n",
       "    .dataframe tbody tr th {\n",
       "        vertical-align: top;\n",
       "    }\n",
       "\n",
       "    .dataframe thead th {\n",
       "        text-align: right;\n",
       "    }\n",
       "</style>\n",
       "<table border=\"1\" class=\"dataframe\">\n",
       "  <thead>\n",
       "    <tr style=\"text-align: right;\">\n",
       "      <th></th>\n",
       "    </tr>\n",
       "  </thead>\n",
       "  <tbody>\n",
       "  </tbody>\n",
       "</table>\n",
       "</div>"
      ],
      "text/plain": [
       "Empty DataFrame\n",
       "Columns: []\n",
       "Index: []"
      ]
     },
     "execution_count": 26,
     "metadata": {},
     "output_type": "execute_result"
    }
   ],
   "source": [
    "gds.run_cypher(\"\"\"\n",
    "// First, ensure there is a Petal_Width node\n",
    "MERGE (p:Sepal_Width)\n",
    "ON CREATE SET p.name = 'Sepal Length' // You can set properties if needed\n",
    "\n",
    "// Match all Flower_Record nodes and connect them to the Sepal_Width node\n",
    "WITH p\n",
    "MATCH (s:Flower_Record)\n",
    "MERGE (s)-[r:SEPAL_WIDTH]->(p)\n",
    "SET r.Sepal_Width = toFloat(s.Sepal_Width)\n",
    "\"\"\")"
   ]
  },
  {
   "cell_type": "code",
   "execution_count": null,
   "metadata": {},
   "outputs": [],
   "source": []
  }
 ],
 "metadata": {
  "kernelspec": {
   "display_name": "Python 3",
   "language": "python",
   "name": "python3"
  },
  "language_info": {
   "codemirror_mode": {
    "name": "ipython",
    "version": 3
   },
   "file_extension": ".py",
   "mimetype": "text/x-python",
   "name": "python",
   "nbconvert_exporter": "python",
   "pygments_lexer": "ipython3",
   "version": "3.8.5"
  }
 },
 "nbformat": 4,
 "nbformat_minor": 4
}
