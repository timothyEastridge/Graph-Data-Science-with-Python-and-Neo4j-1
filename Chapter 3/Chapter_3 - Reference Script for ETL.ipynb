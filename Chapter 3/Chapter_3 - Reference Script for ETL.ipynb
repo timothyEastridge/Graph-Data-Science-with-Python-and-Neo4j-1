{
 "cells": [
  {
   "cell_type": "code",
   "execution_count": 1,
   "metadata": {},
   "outputs": [],
   "source": [
    "from neo4j import GraphDatabase\n",
    "from graphdatascience import GraphDataScience\n",
    "import pandas as pd\n",
    "\n",
    "uri = \"bolt://localhost:7687\" # CHANGE TO YOUR PORT NUMBER\n",
    "user = \"neo4j\"\n",
    "password = \"neo4j12345\"       # CHANGE PASSWORD\n",
    "\n",
    "gds = GraphDataScience(uri, auth=(user,password))\n",
    "gds.set_database(\"neo4j\")"
   ]
  },
  {
   "cell_type": "markdown",
   "metadata": {},
   "source": [
    "## Load the Recipe Dataset"
   ]
  },
  {
   "cell_type": "code",
   "execution_count": null,
   "metadata": {},
   "outputs": [],
   "source": [
    "# Set the display options\n",
    "pd.set_option('display.max_columns', None)\n",
    "pd.set_option('display.expand_frame_repr', False)\n",
    "pd.set_option('max_colwidth', None)\n",
    "\n",
    "# Inspect the file\n",
    "gds.run_cypher(\"\"\"\n",
    "LOAD CSV WITH HEADERS FROM \"file:///Cleaned_Recipe_Data_Subset.csv\" AS row\n",
    "WITH row\n",
    "RETURN *\n",
    "LIMIT 1\n",
    "\"\"\")"
   ]
  },
  {
   "cell_type": "code",
   "execution_count": null,
   "metadata": {},
   "outputs": [],
   "source": [
    "import pandas as pd\n",
    "import re\n",
    "import ast\n",
    "import csv\n",
    "\n",
    "def clean_json_like_string(json_like_string):\n",
    "    # Convert JSON-like string to list\n",
    "    items = ast.literal_eval(json_like_string)\n",
    "    # Join list items into a comma-separated string\n",
    "    joined_items = ', '.join(items)\n",
    "    # Remove special characters\n",
    "    cleaned_string = re.sub('[^A-Za-z0-9, ]+', '', joined_items)\n",
    "    return cleaned_string\n",
    "\n",
    "# Load the data from the CSV file\n",
    "file_path = 'C:\\\\Users\\\\TimEa\\\\OneDrive\\\\Data\\\\Cooking_Recipes\\\\RecipeNLG_dataset.csv'\n",
    "data = pd.read_csv(file_path, dtype=str)\n",
    "\n",
    "# Convert all text to lowercase\n",
    "data = data.applymap(str.lower)\n",
    "\n",
    "# Clean the 'ingredients' and 'directions' columns\n",
    "data['ingredients'] = data['ingredients'].apply(clean_json_like_string)\n",
    "data['directions'] = data['directions'].apply(clean_json_like_string)\n",
    "data['NER'] = data['NER'].apply(clean_json_like_string)\n",
    "\n",
    "data.rename(columns={'Unnamed: 0': 'Row_ID'}, inplace=True)\n",
    "data.head(n=1)\n",
    "\n",
    "# Save a limited amount of data\n",
    "df_subset = data.head(n = 10000)\n",
    "\n",
    "# Save the cleaned data back to a new CSV file\n",
    "cleaned_file_path = 'C:\\\\Users\\\\TimEa\\\\AppData\\\\Local\\\\Neo4j\\\\Relate\\\\Data\\\\dbmss\\\\dbms-d40049e8-260c-4863-8dd4-5be31fef11cd\\\\Cleaned_Recipe_Data.csv'\n",
    "data.to_csv(cleaned_file_path, index=False, quoting=csv.QUOTE_ALL)\n",
    "\n",
    "cleaned_file_path = 'C:\\\\Users\\\\TimEa\\\\AppData\\\\Local\\\\Neo4j\\\\Relate\\\\Data\\\\dbmss\\\\dbms-d40049e8-260c-4863-8dd4-5be31fef11cd\\\\import\\\\Cleaned_Recipe_Data_Subset.csv'\n",
    "df_subset.to_csv(cleaned_file_path, index=False, quoting=csv.QUOTE_ALL)\n",
    "\n",
    "data.head()\n"
   ]
  },
  {
   "cell_type": "code",
   "execution_count": null,
   "metadata": {
    "scrolled": true
   },
   "outputs": [],
   "source": [
    "import pandas as pd\n",
    "from io import StringIO\n",
    "\n",
    "# Convert the comma-separated strings to lists\n",
    "data['CommaSeparatedValues'] = data['NER'].str.split(',')\n",
    "\n",
    "# Use explode to expand the lists into separate rows\n",
    "exploded_df = data[['Row_ID', 'CommaSeparatedValues']].explode('CommaSeparatedValues')\n",
    "\n",
    "# Rename the CommaSeparatedValues column\n",
    "exploded_df.rename(columns={'CommaSeparatedValues': 'Ingredient'}, inplace=True)\n",
    "\n",
    "# Display the resulting DataFrame\n",
    "print(exploded_df)"
   ]
  },
  {
   "cell_type": "code",
   "execution_count": null,
   "metadata": {},
   "outputs": [],
   "source": [
    "cleaned_file_path = 'C:\\\\Users\\\\TimEa\\\\OneDrive\\\\Data\\\\Cooking_Recipes\\\\Ingredients.csv'\n",
    "exploded_df.to_csv(cleaned_file_path, index=False)"
   ]
  },
  {
   "cell_type": "code",
   "execution_count": null,
   "metadata": {},
   "outputs": [],
   "source": [
    "cleaned_file_path = 'C:\\\\Users\\\\TimEa\\\\OneDrive\\\\Data\\\\Cooking_Recipes\\\\Cleaned_Recipe_Data.csv'\n",
    "df_subset = data.head(n = 100000)\n",
    "df_subset.to_csv(cleaned_file_path, index=False)"
   ]
  },
  {
   "cell_type": "markdown",
   "metadata": {},
   "source": [
    "# Load Data"
   ]
  },
  {
   "cell_type": "code",
   "execution_count": null,
   "metadata": {},
   "outputs": [],
   "source": [
    "# Delete existing data in the database\n",
    "gds.run_cypher(\"\"\"\n",
    "MATCH (a) DETACH DELETE a\n",
    "\"\"\")"
   ]
  },
  {
   "cell_type": "code",
   "execution_count": 2,
   "metadata": {},
   "outputs": [
    {
     "data": {
      "text/html": [
       "<div>\n",
       "<style scoped>\n",
       "    .dataframe tbody tr th:only-of-type {\n",
       "        vertical-align: middle;\n",
       "    }\n",
       "\n",
       "    .dataframe tbody tr th {\n",
       "        vertical-align: top;\n",
       "    }\n",
       "\n",
       "    .dataframe thead th {\n",
       "        text-align: right;\n",
       "    }\n",
       "</style>\n",
       "<table border=\"1\" class=\"dataframe\">\n",
       "  <thead>\n",
       "    <tr style=\"text-align: right;\">\n",
       "      <th></th>\n",
       "    </tr>\n",
       "  </thead>\n",
       "  <tbody>\n",
       "  </tbody>\n",
       "</table>\n",
       "</div>"
      ],
      "text/plain": [
       "Empty DataFrame\n",
       "Columns: []\n",
       "Index: []"
      ]
     },
     "execution_count": 2,
     "metadata": {},
     "output_type": "execute_result"
    }
   ],
   "source": [
    "gds.run_cypher(\"\"\"\n",
    "CREATE CONSTRAINT rowid IF NOT EXISTS FOR (r:Recipe) REQUIRE r.Row_ID IS UNIQUE;\n",
    "\"\"\")"
   ]
  },
  {
   "cell_type": "code",
   "execution_count": 3,
   "metadata": {},
   "outputs": [
    {
     "ename": "ClientError",
     "evalue": "{code: Neo.ClientError.Statement.ExternalResourceFailed} {message: Couldn't load the external resource at: file:/C:/Users/TimEa/AppData/Local/Neo4j/Relate/Data/dbmss/dbms-d40049e8-260c-4863-8dd4-5be31fef11cd/import/Cleaned_Recipe_Data.csv (Transactions committed: 0)}",
     "output_type": "error",
     "traceback": [
      "\u001b[1;31m---------------------------------------------------------------------------\u001b[0m",
      "\u001b[1;31mClientError\u001b[0m                               Traceback (most recent call last)",
      "Cell \u001b[1;32mIn[3], line 1\u001b[0m\n\u001b[1;32m----> 1\u001b[0m \u001b[43mgds\u001b[49m\u001b[38;5;241;43m.\u001b[39;49m\u001b[43mrun_cypher\u001b[49m\u001b[43m(\u001b[49m\u001b[38;5;124;43m\"\"\"\u001b[39;49m\n\u001b[0;32m      2\u001b[0m \u001b[38;5;124;43mLOAD CSV WITH HEADERS FROM \u001b[39;49m\u001b[38;5;124;43m\"\u001b[39;49m\u001b[38;5;124;43mfile:///Cleaned_Recipe_Data.csv\u001b[39;49m\u001b[38;5;124;43m\"\u001b[39;49m\u001b[38;5;124;43m AS row\u001b[39;49m\n\u001b[0;32m      3\u001b[0m \u001b[38;5;124;43mWITH row\u001b[39;49m\n\u001b[0;32m      4\u001b[0m \u001b[38;5;124;43mWHERE row.directions IS NOT NULL AND row.ingredients IS NOT NULL\u001b[39;49m\n\u001b[0;32m      5\u001b[0m \u001b[38;5;124;43mCALL \u001b[39;49m\u001b[38;5;124;43m{\u001b[39;49m\n\u001b[0;32m      6\u001b[0m \u001b[38;5;124;43m    WITH row\u001b[39;49m\n\u001b[0;32m      7\u001b[0m \u001b[38;5;124;43m    MERGE (r:Recipe \u001b[39;49m\u001b[38;5;124;43m{\u001b[39;49m\n\u001b[0;32m      8\u001b[0m \u001b[38;5;124;43m        Row_ID: toInteger(row.Row_ID),\u001b[39;49m\n\u001b[0;32m      9\u001b[0m \u001b[38;5;124;43m        title: row.title,\u001b[39;49m\n\u001b[0;32m     10\u001b[0m \u001b[38;5;124;43m        directions: row.directions,\u001b[39;49m\n\u001b[0;32m     11\u001b[0m \u001b[38;5;124;43m        link: row.link,\u001b[39;49m\n\u001b[0;32m     12\u001b[0m \u001b[38;5;124;43m        source: row.source,\u001b[39;49m\n\u001b[0;32m     13\u001b[0m \u001b[38;5;124;43m        ingredients: row.ingredients,\u001b[39;49m\n\u001b[0;32m     14\u001b[0m \u001b[38;5;124;43m        NER: row.NER\u001b[39;49m\n\u001b[0;32m     15\u001b[0m \u001b[38;5;124;43m    })\u001b[39;49m\n\u001b[0;32m     16\u001b[0m \u001b[38;5;124;43m} IN TRANSACTIONS OF 1000 ROWS\u001b[39;49m\n\u001b[0;32m     17\u001b[0m \u001b[38;5;124;43m;\u001b[39;49m\n\u001b[0;32m     18\u001b[0m \n\u001b[0;32m     19\u001b[0m \u001b[38;5;124;43m\"\"\"\u001b[39;49m\u001b[43m)\u001b[49m\n",
      "File \u001b[1;32m~\\anaconda3\\lib\\site-packages\\graphdatascience\\graph_data_science.py:97\u001b[0m, in \u001b[0;36mGraphDataScience.run_cypher\u001b[1;34m(self, query, params)\u001b[0m\n\u001b[0;32m     96\u001b[0m \u001b[38;5;28;01mdef\u001b[39;00m \u001b[38;5;21mrun_cypher\u001b[39m(\u001b[38;5;28mself\u001b[39m, query: \u001b[38;5;28mstr\u001b[39m, params: Optional[Dict[\u001b[38;5;28mstr\u001b[39m, Any]] \u001b[38;5;241m=\u001b[39m \u001b[38;5;28;01mNone\u001b[39;00m) \u001b[38;5;241m-\u001b[39m\u001b[38;5;241m>\u001b[39m DataFrame:\n\u001b[1;32m---> 97\u001b[0m     \u001b[38;5;28;01mreturn\u001b[39;00m \u001b[38;5;28;43mself\u001b[39;49m\u001b[38;5;241;43m.\u001b[39;49m\u001b[43m_query_runner\u001b[49m\u001b[38;5;241;43m.\u001b[39;49m\u001b[43mrun_query\u001b[49m\u001b[43m(\u001b[49m\u001b[43mquery\u001b[49m\u001b[43m,\u001b[49m\u001b[43m \u001b[49m\u001b[43mparams\u001b[49m\u001b[43m)\u001b[49m\n",
      "File \u001b[1;32m~\\anaconda3\\lib\\site-packages\\graphdatascience\\query_runner\\neo4j_query_runner.py:29\u001b[0m, in \u001b[0;36mNeo4jQueryRunner.run_query\u001b[1;34m(self, query, params)\u001b[0m\n\u001b[0;32m     26\u001b[0m     params \u001b[38;5;241m=\u001b[39m {}\n\u001b[0;32m     28\u001b[0m \u001b[38;5;28;01mwith\u001b[39;00m \u001b[38;5;28mself\u001b[39m\u001b[38;5;241m.\u001b[39m_driver\u001b[38;5;241m.\u001b[39msession(database\u001b[38;5;241m=\u001b[39m\u001b[38;5;28mself\u001b[39m\u001b[38;5;241m.\u001b[39m_db) \u001b[38;5;28;01mas\u001b[39;00m session:\n\u001b[1;32m---> 29\u001b[0m     result \u001b[38;5;241m=\u001b[39m \u001b[43msession\u001b[49m\u001b[38;5;241;43m.\u001b[39;49m\u001b[43mrun\u001b[49m\u001b[43m(\u001b[49m\u001b[43mquery\u001b[49m\u001b[43m,\u001b[49m\u001b[43m \u001b[49m\u001b[43mparams\u001b[49m\u001b[43m)\u001b[49m\n\u001b[0;32m     31\u001b[0m     \u001b[38;5;66;03m# Though pandas support may be experimental in the `neo4j` package, it should always\u001b[39;00m\n\u001b[0;32m     32\u001b[0m     \u001b[38;5;66;03m# be supported in the `graphdatascience` package.\u001b[39;00m\n\u001b[0;32m     33\u001b[0m     warnings\u001b[38;5;241m.\u001b[39mfilterwarnings(\n\u001b[0;32m     34\u001b[0m         \u001b[38;5;124m\"\u001b[39m\u001b[38;5;124mignore\u001b[39m\u001b[38;5;124m\"\u001b[39m,\n\u001b[0;32m     35\u001b[0m         message\u001b[38;5;241m=\u001b[39m\u001b[38;5;124mr\u001b[39m\u001b[38;5;124m\"\u001b[39m\u001b[38;5;124m^pandas support is experimental and might be changed or removed in future versions$\u001b[39m\u001b[38;5;124m\"\u001b[39m,\n\u001b[0;32m     36\u001b[0m     )\n",
      "File \u001b[1;32m~\\anaconda3\\lib\\site-packages\\neo4j\\work\\simple.py:215\u001b[0m, in \u001b[0;36mSession.run\u001b[1;34m(self, query, parameters, **kwparameters)\u001b[0m\n\u001b[0;32m    209\u001b[0m hydrant \u001b[38;5;241m=\u001b[39m DataHydrator()\n\u001b[0;32m    211\u001b[0m \u001b[38;5;28mself\u001b[39m\u001b[38;5;241m.\u001b[39m_autoResult \u001b[38;5;241m=\u001b[39m Result(\n\u001b[0;32m    212\u001b[0m     cx, hydrant, \u001b[38;5;28mself\u001b[39m\u001b[38;5;241m.\u001b[39m_config\u001b[38;5;241m.\u001b[39mfetch_size, \u001b[38;5;28mself\u001b[39m\u001b[38;5;241m.\u001b[39m_result_closed,\n\u001b[0;32m    213\u001b[0m     \u001b[38;5;28mself\u001b[39m\u001b[38;5;241m.\u001b[39m_result_error\n\u001b[0;32m    214\u001b[0m )\n\u001b[1;32m--> 215\u001b[0m \u001b[38;5;28;43mself\u001b[39;49m\u001b[38;5;241;43m.\u001b[39;49m\u001b[43m_autoResult\u001b[49m\u001b[38;5;241;43m.\u001b[39;49m\u001b[43m_run\u001b[49m\u001b[43m(\u001b[49m\n\u001b[0;32m    216\u001b[0m \u001b[43m    \u001b[49m\u001b[43mquery\u001b[49m\u001b[43m,\u001b[49m\u001b[43m \u001b[49m\u001b[43mparameters\u001b[49m\u001b[43m,\u001b[49m\u001b[43m \u001b[49m\u001b[38;5;28;43mself\u001b[39;49m\u001b[38;5;241;43m.\u001b[39;49m\u001b[43m_config\u001b[49m\u001b[38;5;241;43m.\u001b[39;49m\u001b[43mdatabase\u001b[49m\u001b[43m,\u001b[49m\n\u001b[0;32m    217\u001b[0m \u001b[43m    \u001b[49m\u001b[38;5;28;43mself\u001b[39;49m\u001b[38;5;241;43m.\u001b[39;49m\u001b[43m_config\u001b[49m\u001b[38;5;241;43m.\u001b[39;49m\u001b[43mimpersonated_user\u001b[49m\u001b[43m,\u001b[49m\u001b[43m \u001b[49m\u001b[38;5;28;43mself\u001b[39;49m\u001b[38;5;241;43m.\u001b[39;49m\u001b[43m_config\u001b[49m\u001b[38;5;241;43m.\u001b[39;49m\u001b[43mdefault_access_mode\u001b[49m\u001b[43m,\u001b[49m\n\u001b[0;32m    218\u001b[0m \u001b[43m    \u001b[49m\u001b[38;5;28;43mself\u001b[39;49m\u001b[38;5;241;43m.\u001b[39;49m\u001b[43m_bookmarks\u001b[49m\u001b[43m,\u001b[49m\u001b[43m \u001b[49m\u001b[38;5;241;43m*\u001b[39;49m\u001b[38;5;241;43m*\u001b[39;49m\u001b[43mkwparameters\u001b[49m\n\u001b[0;32m    219\u001b[0m \u001b[43m\u001b[49m\u001b[43m)\u001b[49m\n\u001b[0;32m    221\u001b[0m \u001b[38;5;28;01mreturn\u001b[39;00m \u001b[38;5;28mself\u001b[39m\u001b[38;5;241m.\u001b[39m_autoResult\n",
      "File \u001b[1;32m~\\anaconda3\\lib\\site-packages\\neo4j\\work\\result.py:114\u001b[0m, in \u001b[0;36mResult._run\u001b[1;34m(self, query, parameters, db, imp_user, access_mode, bookmarks, **kwparameters)\u001b[0m\n\u001b[0;32m    112\u001b[0m \u001b[38;5;28mself\u001b[39m\u001b[38;5;241m.\u001b[39m_pull()\n\u001b[0;32m    113\u001b[0m \u001b[38;5;28mself\u001b[39m\u001b[38;5;241m.\u001b[39m_connection\u001b[38;5;241m.\u001b[39msend_all()\n\u001b[1;32m--> 114\u001b[0m \u001b[38;5;28;43mself\u001b[39;49m\u001b[38;5;241;43m.\u001b[39;49m\u001b[43m_attach\u001b[49m\u001b[43m(\u001b[49m\u001b[43m)\u001b[49m\n",
      "File \u001b[1;32m~\\anaconda3\\lib\\site-packages\\neo4j\\work\\result.py:203\u001b[0m, in \u001b[0;36mResult._attach\u001b[1;34m(self)\u001b[0m\n\u001b[0;32m    201\u001b[0m \u001b[38;5;28;01mif\u001b[39;00m \u001b[38;5;28mself\u001b[39m\u001b[38;5;241m.\u001b[39m_closed \u001b[38;5;129;01mis\u001b[39;00m \u001b[38;5;28;01mFalse\u001b[39;00m:\n\u001b[0;32m    202\u001b[0m     \u001b[38;5;28;01mwhile\u001b[39;00m \u001b[38;5;28mself\u001b[39m\u001b[38;5;241m.\u001b[39m_attached \u001b[38;5;129;01mis\u001b[39;00m \u001b[38;5;28;01mFalse\u001b[39;00m:\n\u001b[1;32m--> 203\u001b[0m         \u001b[38;5;28;43mself\u001b[39;49m\u001b[38;5;241;43m.\u001b[39;49m\u001b[43m_connection\u001b[49m\u001b[38;5;241;43m.\u001b[39;49m\u001b[43mfetch_message\u001b[49m\u001b[43m(\u001b[49m\u001b[43m)\u001b[49m\n",
      "File \u001b[1;32m~\\anaconda3\\lib\\site-packages\\neo4j\\io\\_common.py:187\u001b[0m, in \u001b[0;36mConnectionErrorHandler.__getattr__.<locals>.outer.<locals>.inner\u001b[1;34m(*args, **kwargs)\u001b[0m\n\u001b[0;32m    185\u001b[0m \u001b[38;5;28;01mdef\u001b[39;00m \u001b[38;5;21minner\u001b[39m(\u001b[38;5;241m*\u001b[39margs, \u001b[38;5;241m*\u001b[39m\u001b[38;5;241m*\u001b[39mkwargs):\n\u001b[0;32m    186\u001b[0m     \u001b[38;5;28;01mtry\u001b[39;00m:\n\u001b[1;32m--> 187\u001b[0m         \u001b[43mfunc\u001b[49m\u001b[43m(\u001b[49m\u001b[38;5;241;43m*\u001b[39;49m\u001b[43margs\u001b[49m\u001b[43m,\u001b[49m\u001b[43m \u001b[49m\u001b[38;5;241;43m*\u001b[39;49m\u001b[38;5;241;43m*\u001b[39;49m\u001b[43mkwargs\u001b[49m\u001b[43m)\u001b[49m\n\u001b[0;32m    188\u001b[0m     \u001b[38;5;28;01mexcept\u001b[39;00m (Neo4jError, ServiceUnavailable, SessionExpired) \u001b[38;5;28;01mas\u001b[39;00m exc:\n\u001b[0;32m    189\u001b[0m         \u001b[38;5;28mself\u001b[39m\u001b[38;5;241m.\u001b[39m__on_error(exc)\n",
      "File \u001b[1;32m~\\anaconda3\\lib\\site-packages\\neo4j\\io\\_bolt4.py:302\u001b[0m, in \u001b[0;36mBolt4x0.fetch_message\u001b[1;34m(self)\u001b[0m\n\u001b[0;32m    300\u001b[0m \u001b[38;5;28mself\u001b[39m\u001b[38;5;241m.\u001b[39m_server_state_manager\u001b[38;5;241m.\u001b[39mstate \u001b[38;5;241m=\u001b[39m ServerStates\u001b[38;5;241m.\u001b[39mFAILED\n\u001b[0;32m    301\u001b[0m \u001b[38;5;28;01mtry\u001b[39;00m:\n\u001b[1;32m--> 302\u001b[0m     \u001b[43mresponse\u001b[49m\u001b[38;5;241;43m.\u001b[39;49m\u001b[43mon_failure\u001b[49m\u001b[43m(\u001b[49m\u001b[43msummary_metadata\u001b[49m\u001b[43m \u001b[49m\u001b[38;5;129;43;01mor\u001b[39;49;00m\u001b[43m \u001b[49m\u001b[43m{\u001b[49m\u001b[43m}\u001b[49m\u001b[43m)\u001b[49m\n\u001b[0;32m    303\u001b[0m \u001b[38;5;28;01mexcept\u001b[39;00m (ServiceUnavailable, DatabaseUnavailable):\n\u001b[0;32m    304\u001b[0m     \u001b[38;5;28;01mif\u001b[39;00m \u001b[38;5;28mself\u001b[39m\u001b[38;5;241m.\u001b[39mpool:\n",
      "File \u001b[1;32m~\\anaconda3\\lib\\site-packages\\neo4j\\io\\_common.py:245\u001b[0m, in \u001b[0;36mResponse.on_failure\u001b[1;34m(self, metadata)\u001b[0m\n\u001b[0;32m    243\u001b[0m \u001b[38;5;28;01mif\u001b[39;00m callable(handler):\n\u001b[0;32m    244\u001b[0m     handler()\n\u001b[1;32m--> 245\u001b[0m \u001b[38;5;28;01mraise\u001b[39;00m Neo4jError\u001b[38;5;241m.\u001b[39mhydrate(\u001b[38;5;241m*\u001b[39m\u001b[38;5;241m*\u001b[39mmetadata)\n",
      "\u001b[1;31mClientError\u001b[0m: {code: Neo.ClientError.Statement.ExternalResourceFailed} {message: Couldn't load the external resource at: file:/C:/Users/TimEa/AppData/Local/Neo4j/Relate/Data/dbmss/dbms-d40049e8-260c-4863-8dd4-5be31fef11cd/import/Cleaned_Recipe_Data.csv (Transactions committed: 0)}"
     ]
    }
   ],
   "source": [
    "gds.run_cypher(\"\"\"\n",
    "LOAD CSV WITH HEADERS FROM \"file:///Cleaned_Recipe_Data.csv\" AS row\n",
    "WITH row\n",
    "WHERE row.directions IS NOT NULL AND row.ingredients IS NOT NULL\n",
    "CALL {\n",
    "    WITH row\n",
    "    MERGE (r:Recipe {\n",
    "        Row_ID: toInteger(row.Row_ID),\n",
    "        title: row.title,\n",
    "        directions: row.directions,\n",
    "        link: row.link,\n",
    "        source: row.source,\n",
    "        ingredients: row.ingredients,\n",
    "        NER: row.NER\n",
    "    })\n",
    "} IN TRANSACTIONS OF 1000 ROWS\n",
    ";\n",
    "\n",
    "\"\"\")"
   ]
  },
  {
   "cell_type": "code",
   "execution_count": null,
   "metadata": {},
   "outputs": [],
   "source": [
    "gds.run_cypher(\"\"\"\n",
    "CREATE CONSTRAINT ingredient_name IF NOT EXISTS FOR (r:Ingredient) REQUIRE r.Ingredient_Name IS UNIQUE;\n",
    "\"\"\")"
   ]
  },
  {
   "cell_type": "code",
   "execution_count": null,
   "metadata": {},
   "outputs": [],
   "source": [
    "gds.run_cypher(\"\"\"\n",
    "LOAD CSV WITH HEADERS FROM \"file:///Ingredients.csv\" AS row\n",
    "WITH row\n",
    "WHERE row.Ingredient IS NOT NULL \n",
    "CALL {\n",
    "    WITH row\n",
    "    MERGE (i:Ingredient {Ingredient_Name: row.Ingredient})\n",
    "} IN TRANSACTIONS OF 1000 ROWS\n",
    ";\n",
    "\n",
    "\"\"\")"
   ]
  },
  {
   "cell_type": "code",
   "execution_count": null,
   "metadata": {},
   "outputs": [],
   "source": [
    "gds.run_cypher(\"\"\"\n",
    "LOAD CSV WITH HEADERS FROM 'file:///Ingredients.csv' AS row\n",
    "MATCH (r:Recipe {Row_ID: toInteger(row.Row_ID)}), (i:Ingredient {Ingredient_Name: row.Ingredient})\n",
    "MERGE (r)-[:USES]->(i)\n",
    "\"\"\")"
   ]
  },
  {
   "cell_type": "markdown",
   "metadata": {},
   "source": [
    "## Export into a Neo4j Friendly Import Version"
   ]
  },
  {
   "cell_type": "code",
   "execution_count": null,
   "metadata": {},
   "outputs": [],
   "source": [
    "gds.run_cypher(\"\"\"\n",
    "// Recipe Nodes\n",
    "MATCH (r:Recipe)\n",
    "WITH distinct r\n",
    "LIMIT 10\n",
    "\n",
    "MATCH (r)-[:USES]->(i)\n",
    "WITH distinct r\n",
    "RETURN r.Row_ID as Recipe_ID, r.title as Recipe_Title, r.directions as Directions, r.link as Link, r.source as Source, r.ingredients\n",
    "\"\"\")"
   ]
  },
  {
   "cell_type": "code",
   "execution_count": null,
   "metadata": {},
   "outputs": [],
   "source": [
    "gds.run_cypher(\"\"\"\n",
    "// Ingredient Nodes\n",
    "MATCH (r:Recipe)\n",
    "WITH distinct r\n",
    "LIMIT 10\n",
    "\n",
    "MATCH (r)-[:USES]->(i)\n",
    "RETURN id(i) as Ingredient_ID, trim(i.Ingredient_Name) as Ingredient_Name\n",
    "\"\"\")"
   ]
  },
  {
   "cell_type": "code",
   "execution_count": null,
   "metadata": {},
   "outputs": [],
   "source": [
    "gds.run_cypher(\"\"\"\n",
    "// Recipe to Ingredient Relationships\n",
    "MATCH (r:Recipe)\n",
    "WITH distinct r\n",
    "LIMIT 10\n",
    "\n",
    "MATCH (r)-[:USES]->(i)\n",
    "RETURN r.Row_ID as Recipe_ID, id(i) as Ingredient_ID\n",
    "\"\"\")"
   ]
  },
  {
   "cell_type": "markdown",
   "metadata": {},
   "source": [
    "## Export into a Neo4j Admin Import Version"
   ]
  },
  {
   "cell_type": "code",
   "execution_count": 2,
   "metadata": {},
   "outputs": [
    {
     "data": {
      "text/html": [
       "<div>\n",
       "<style scoped>\n",
       "    .dataframe tbody tr th:only-of-type {\n",
       "        vertical-align: middle;\n",
       "    }\n",
       "\n",
       "    .dataframe tbody tr th {\n",
       "        vertical-align: top;\n",
       "    }\n",
       "\n",
       "    .dataframe thead th {\n",
       "        text-align: right;\n",
       "    }\n",
       "</style>\n",
       "<table border=\"1\" class=\"dataframe\">\n",
       "  <thead>\n",
       "    <tr style=\"text-align: right;\">\n",
       "      <th></th>\n",
       "      <th>Recipe_ID</th>\n",
       "      <th>Recipe_Title</th>\n",
       "      <th>Directions</th>\n",
       "      <th>Link</th>\n",
       "      <th>Source</th>\n",
       "      <th>r.ingredients</th>\n",
       "    </tr>\n",
       "  </thead>\n",
       "  <tbody>\n",
       "  </tbody>\n",
       "</table>\n",
       "</div>"
      ],
      "text/plain": [
       "Empty DataFrame\n",
       "Columns: [Recipe_ID, Recipe_Title, Directions, Link, Source, r.ingredients]\n",
       "Index: []"
      ]
     },
     "execution_count": 2,
     "metadata": {},
     "output_type": "execute_result"
    }
   ],
   "source": [
    "gds.run_cypher(\"\"\"\n",
    "// Recipe Nodes\n",
    "MATCH (r:Recipe)\n",
    "WITH distinct r\n",
    "LIMIT 10\n",
    "\n",
    "MATCH (r)-[:USES]->(i)\n",
    "WITH distinct r\n",
    "RETURN r.Row_ID as Recipe_ID, r.title as Recipe_Title, r.directions as Directions, r.link as Link, r.source as Source, r.ingredients\n",
    "\"\"\")"
   ]
  },
  {
   "cell_type": "code",
   "execution_count": null,
   "metadata": {},
   "outputs": [],
   "source": [
    "gds.run_cypher(\"\"\"\n",
    "// Ingredient Nodes\n",
    "MATCH (r:Recipe)\n",
    "WITH distinct r\n",
    "LIMIT 10\n",
    "\n",
    "MATCH (r)-[:USES]->(i)\n",
    "RETURN id(i) as Ingredient_ID, trim(i.Ingredient_Name) as Ingredient_Name\n",
    "\"\"\")"
   ]
  },
  {
   "cell_type": "code",
   "execution_count": null,
   "metadata": {},
   "outputs": [],
   "source": [
    "gds.run_cypher(\"\"\"\n",
    "// Recipe to Ingredient Relationships\n",
    "MATCH (r:Recipe)\n",
    "WITH distinct r\n",
    "LIMIT 10\n",
    "\n",
    "MATCH (r)-[:USES]->(i)\n",
    "RETURN r.Row_ID as Recipe_ID, id(i) as Ingredient_ID\n",
    "\"\"\")"
   ]
  },
  {
   "cell_type": "code",
   "execution_count": null,
   "metadata": {},
   "outputs": [],
   "source": []
  },
  {
   "cell_type": "code",
   "execution_count": null,
   "metadata": {},
   "outputs": [],
   "source": []
  },
  {
   "cell_type": "code",
   "execution_count": null,
   "metadata": {},
   "outputs": [],
   "source": []
  }
 ],
 "metadata": {
  "kernelspec": {
   "display_name": "Python 3",
   "language": "python",
   "name": "python3"
  },
  "language_info": {
   "codemirror_mode": {
    "name": "ipython",
    "version": 3
   },
   "file_extension": ".py",
   "mimetype": "text/x-python",
   "name": "python",
   "nbconvert_exporter": "python",
   "pygments_lexer": "ipython3",
   "version": "3.8.5"
  }
 },
 "nbformat": 4,
 "nbformat_minor": 4
}
